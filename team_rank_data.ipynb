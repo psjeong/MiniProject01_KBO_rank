{
 "cells": [
  {
   "cell_type": "markdown",
   "id": "e4f69f49",
   "metadata": {},
   "source": [
    "**scraping**"
   ]
  },
  {
   "cell_type": "code",
   "execution_count": 1,
   "id": "d17a53e7",
   "metadata": {},
   "outputs": [],
   "source": [
    "import selenium\n",
    "from selenium import webdriver\n",
    "from selenium.webdriver.common.keys import Keys\n",
    "import pandas as pd\n",
    "import pymysql"
   ]
  },
  {
   "cell_type": "code",
   "execution_count": 2,
   "id": "92778441",
   "metadata": {},
   "outputs": [],
   "source": [
    "driver = webdriver.Chrome()\n",
    "driver.get(\"https://www.koreabaseball.com/TeamRank/TeamRank.aspx\")"
   ]
  },
  {
   "cell_type": "code",
   "execution_count": 3,
   "id": "753489ef",
   "metadata": {},
   "outputs": [
    {
     "name": "stdout",
     "output_type": "stream",
     "text": [
      "순위\t팀명\t경기\t승\t패\t무\t승률\t게임차\t최근10경기\t연속\t홈\t방문\n",
      "1\tSSG\t105\t71\t31\t3\t0.696\t0\t7승0무3패\t2승\t39-0-13\t32-3-18\n",
      "2\tLG\t101\t61\t39\t1\t0.610\t9\t7승0무3패\t1승\t27-0-23\t34-1-16\n",
      "3\t키움\t107\t61\t44\t2\t0.581\t11.5\t3승0무7패\t1패\t28-1-24\t33-1-20\n",
      "4\tKT\t103\t56\t45\t2\t0.554\t14.5\t6승0무4패\t4승\t28-1-24\t28-1-21\n",
      "5\tKIA\t102\t50\t51\t1\t0.495\t20.5\t3승0무7패\t1패\t24-0-27\t26-1-24\n",
      "6\t롯데\t105\t45\t56\t4\t0.446\t25.5\t5승0무5패\t1승\t18-3-32\t27-1-24\n",
      "7\t두산\t101\t44\t55\t2\t0.444\t25.5\t4승0무6패\t2패\t20-1-32\t24-1-23\n",
      "8\tNC\t100\t43\t54\t3\t0.443\t25.5\t6승1무3패\t1승\t22-3-24\t21-0-30\n",
      "9\t삼성\t104\t42\t60\t2\t0.412\t29\t4승0무6패\t3패\t18-2-31\t24-0-29\n",
      "10\t한화\t102\t31\t69\t2\t0.310\t39\t4승0무6패\t3패\t19-0-31\t12-2-38\n"
     ]
    }
   ],
   "source": [
    "table = driver.find_element_by_css_selector('table.tData')\n",
    "print(table.get_attribute('innerText'))"
   ]
  },
  {
   "cell_type": "code",
   "execution_count": 4,
   "id": "f3b847fb",
   "metadata": {},
   "outputs": [
    {
     "name": "stdout",
     "output_type": "stream",
     "text": [
      "['순위', '팀명', '경기', '승', '패', '무', '승률', '게임차', '최근10경기', '연속', '홈', '방문']\n",
      "순위\n",
      "12\n"
     ]
    }
   ],
   "source": [
    "# th 명 가져오기\n",
    "th_list = []\n",
    "for i in range(1,13):\n",
    "    ths = driver.find_element_by_xpath('//*[@id=\"cphContents_cphContents_cphContents_udpRecord\"]/table/thead/tr/th[{}]'.format(i))\n",
    "    th_list.append(ths.get_attribute('innerText'))\n",
    "    \n",
    "print(th_list)   \n",
    "print(th_list[0])\n",
    "print(len(th_list))"
   ]
  },
  {
   "cell_type": "code",
   "execution_count": 5,
   "id": "90371ff0",
   "metadata": {},
   "outputs": [
    {
     "name": "stdout",
     "output_type": "stream",
     "text": [
      "['1', 'SSG', '105', '71', '31', '3', '0.696', '0', '7승0무3패', '2승', '39-0-13', '32-3-18']\n",
      "['2', 'LG', '101', '61', '39', '1', '0.610', '9', '7승0무3패', '1승', '27-0-23', '34-1-16']\n",
      "['3', '키움', '107', '61', '44', '2', '0.581', '11.5', '3승0무7패', '1패', '28-1-24', '33-1-20']\n",
      "['4', 'KT', '103', '56', '45', '2', '0.554', '14.5', '6승0무4패', '4승', '28-1-24', '28-1-21']\n",
      "['5', 'KIA', '102', '50', '51', '1', '0.495', '20.5', '3승0무7패', '1패', '24-0-27', '26-1-24']\n",
      "['6', '롯데', '105', '45', '56', '4', '0.446', '25.5', '5승0무5패', '1승', '18-3-32', '27-1-24']\n",
      "['7', '두산', '101', '44', '55', '2', '0.444', '25.5', '4승0무6패', '2패', '20-1-32', '24-1-23']\n",
      "['8', 'NC', '100', '43', '54', '3', '0.443', '25.5', '6승1무3패', '1승', '22-3-24', '21-0-30']\n",
      "['9', '삼성', '104', '42', '60', '2', '0.412', '29', '4승0무6패', '3패', '18-2-31', '24-0-29']\n",
      "['10', '한화', '102', '31', '69', '2', '0.310', '39', '4승0무6패', '3패', '19-0-31', '12-2-38']\n"
     ]
    }
   ],
   "source": [
    "# td 가져오기\n",
    "\n",
    "td_list = []\n",
    "for k in range(1,13):\n",
    "    tds = driver.find_elements_by_xpath('//*[@id=\"cphContents_cphContents_cphContents_udpRecord\"]/table/tbody/tr[{}]'.format(k))\n",
    "    for td_text in tds:\n",
    "        td_list.append(td_text.text)\n",
    "        td_elmts = td_list[k-1].split()\n",
    "        print(td_elmts)"
   ]
  },
  {
   "cell_type": "markdown",
   "id": "179843c2",
   "metadata": {},
   "source": [
    "**SQL**"
   ]
  },
  {
   "cell_type": "code",
   "execution_count": 6,
   "id": "4751cfae",
   "metadata": {},
   "outputs": [],
   "source": [
    "db = pymysql.connect(host='localhost', port=3306, user='root', passwd='3064', db='mywork', charset='utf8')\n",
    "cursor = db.cursor()"
   ]
  },
  {
   "cell_type": "code",
   "execution_count": 17,
   "id": "7e1ca74c",
   "metadata": {},
   "outputs": [],
   "source": [
    "# col 생성\n",
    "sql = \"\"\"\n",
    "    create table KBO_team_rank (\n",
    "        {} varchar(50),\n",
    "        {} varchar(50),\n",
    "        {} varchar(50),\n",
    "        {} varchar(50),\n",
    "        {} varchar(50),\n",
    "        {} varchar(50),\n",
    "        {} varchar(50),\n",
    "        {} varchar(50),\n",
    "        {} varchar(50),\n",
    "        {} varchar(50),\n",
    "        {} varchar(50),\n",
    "        {} varchar(50)\n",
    "    );\n",
    "\"\"\".format(\n",
    "        th_list[0], th_list[1], th_list[2], th_list[3],th_list[4], th_list[5], \n",
    "        th_list[6], th_list[7], th_list[8], th_list[9], th_list[10], th_list[11]\n",
    "          )\n",
    "\n",
    "cursor.execute(sql)\n",
    "db.commit()"
   ]
  },
  {
   "cell_type": "code",
   "execution_count": 21,
   "id": "2da5875a",
   "metadata": {},
   "outputs": [],
   "source": [
    "# 내용 추가\n",
    "td_list = []\n",
    "for k in range(1,13):\n",
    "    tds = driver.find_elements_by_xpath('//*[@id=\"cphContents_cphContents_cphContents_udpRecord\"]/table/tbody/tr[{}]'.format(k))\n",
    "    val = []\n",
    "    for td_text in tds:\n",
    "        td_list.append(td_text.text)\n",
    "        td_elmts = td_list[k-1].split()\n",
    "        \n",
    "        for rank_info in td_elmts:\n",
    "            val.append(rank_info)\n",
    "            sql = \"INSERT INTO KBO_team_rank VALUES({});\".format(val)\n",
    "            rank_data = sql.replace('[', '', 1)\n",
    "            rank_data = rank_data.replace(']', '', 1)\n",
    "\n",
    "        cursor.execute(rank_data)\n",
    "        \n",
    "db.commit()"
   ]
  }
 ],
 "metadata": {
  "kernelspec": {
   "display_name": "Python 3 (ipykernel)",
   "language": "python",
   "name": "python3"
  },
  "language_info": {
   "codemirror_mode": {
    "name": "ipython",
    "version": 3
   },
   "file_extension": ".py",
   "mimetype": "text/x-python",
   "name": "python",
   "nbconvert_exporter": "python",
   "pygments_lexer": "ipython3",
   "version": "3.9.7"
  }
 },
 "nbformat": 4,
 "nbformat_minor": 5
}

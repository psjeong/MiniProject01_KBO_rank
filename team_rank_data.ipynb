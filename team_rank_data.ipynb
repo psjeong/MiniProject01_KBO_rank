{
 "cells": [
  {
   "cell_type": "markdown",
   "id": "fc07067d",
   "metadata": {},
   "source": [
    "**scraping**"
   ]
  },
  {
   "cell_type": "code",
   "execution_count": 1,
   "id": "99c58643",
   "metadata": {},
   "outputs": [],
   "source": [
    "import selenium\n",
    "from selenium import webdriver\n",
    "from selenium.webdriver.common.keys import Keys\n",
    "import pandas as pd\n",
    "import pymysql"
   ]
  },
  {
   "cell_type": "code",
   "execution_count": 2,
   "id": "22714a01",
   "metadata": {},
   "outputs": [],
   "source": [
    "driver = webdriver.Chrome()\n",
    "driver.get(\"https://www.koreabaseball.com/TeamRank/TeamRank.aspx\")"
   ]
  },
  {
   "cell_type": "code",
   "execution_count": 3,
   "id": "4bec0072",
   "metadata": {},
   "outputs": [
    {
     "name": "stdout",
     "output_type": "stream",
     "text": [
      "순위\t팀명\t경기\t승\t패\t무\t승률\t게임차\t최근10경기\t연속\t홈\t방문\n",
      "1\tSSG\t105\t71\t31\t3\t0.696\t0\t7승0무3패\t2승\t39-0-13\t32-3-18\n",
      "2\tLG\t101\t61\t39\t1\t0.610\t9\t7승0무3패\t1승\t27-0-23\t34-1-16\n",
      "3\t키움\t107\t61\t44\t2\t0.581\t11.5\t3승0무7패\t1패\t28-1-24\t33-1-20\n",
      "4\tKT\t103\t56\t45\t2\t0.554\t14.5\t6승0무4패\t4승\t28-1-24\t28-1-21\n",
      "5\tKIA\t102\t50\t51\t1\t0.495\t20.5\t3승0무7패\t1패\t24-0-27\t26-1-24\n",
      "6\t롯데\t105\t45\t56\t4\t0.446\t25.5\t5승0무5패\t1승\t18-3-32\t27-1-24\n",
      "7\t두산\t101\t44\t55\t2\t0.444\t25.5\t4승0무6패\t2패\t20-1-32\t24-1-23\n",
      "8\tNC\t100\t43\t54\t3\t0.443\t25.5\t6승1무3패\t1승\t22-3-24\t21-0-30\n",
      "9\t삼성\t104\t42\t60\t2\t0.412\t29\t4승0무6패\t3패\t18-2-31\t24-0-29\n",
      "10\t한화\t102\t31\t69\t2\t0.310\t39\t4승0무6패\t3패\t19-0-31\t12-2-38\n"
     ]
    }
   ],
   "source": [
    "table = driver.find_element_by_css_selector('table.tData')\n",
    "print(table.get_attribute('innerText'))"
   ]
  },
  {
   "cell_type": "code",
   "execution_count": 4,
   "id": "b66751a4",
   "metadata": {},
   "outputs": [],
   "source": [
    "# th 명 가져오기\n",
    "th_list = []\n",
    "for i in range(1,13):\n",
    "    ths = driver.find_element_by_xpath('//*[@id=\"cphContents_cphContents_cphContents_udpRecord\"]/table/thead/tr/th[{}]'.format(i))\n",
    "    th_list.append(ths.get_attribute('innerText'))"
   ]
  },
  {
   "cell_type": "code",
   "execution_count": 5,
   "id": "03c5707c",
   "metadata": {},
   "outputs": [],
   "source": [
    "# td 가져오기\n",
    "\n",
    "td_list = []\n",
    "for k in range(1,13):\n",
    "    tds = driver.find_elements_by_xpath('//*[@id=\"cphContents_cphContents_cphContents_udpRecord\"]/table/tbody/tr[{}]'.format(k))\n",
    "    for td_text in tds:\n",
    "        td_list.append(td_text.text)\n",
    "        td_elmts = td_list[k-1].split()"
   ]
  },
  {
   "cell_type": "markdown",
   "id": "5d2cd580",
   "metadata": {},
   "source": [
    "**SQL**"
   ]
  },
  {
   "cell_type": "code",
   "execution_count": 6,
   "id": "e6e916fd",
   "metadata": {},
   "outputs": [],
   "source": [
    "db = pymysql.connect(host='localhost', port=3306, user='root', passwd='3064', db='mywork', charset='utf8')\n",
    "cursor = db.cursor()"
   ]
  },
  {
   "cell_type": "code",
   "execution_count": 7,
   "id": "e65a06cb",
   "metadata": {},
   "outputs": [],
   "source": [
    "# col 생성\n",
    "sql = \"\"\"\n",
    "    create table KBO_team_rank (\n",
    "        {} tinyint,\n",
    "        {} varchar(50),\n",
    "        {} smallint,\n",
    "        {} smallint,\n",
    "        {} smallint,\n",
    "        {} smallint,\n",
    "        {} DECIMAL(10,3),\n",
    "        {} DECIMAL(10,1),\n",
    "        {} varchar(50),\n",
    "        {} varchar(50),\n",
    "        {} varchar(50),\n",
    "        {} varchar(50)\n",
    "    );\n",
    "\"\"\".format(\n",
    "        th_list[0], th_list[1], th_list[2], th_list[3],th_list[4], th_list[5], \n",
    "        th_list[6], th_list[7], th_list[8], th_list[9], th_list[10], th_list[11]\n",
    "          )\n",
    "\n",
    "cursor.execute(sql)\n",
    "db.commit()"
   ]
  },
  {
   "cell_type": "code",
   "execution_count": 8,
   "id": "843f6394",
   "metadata": {},
   "outputs": [],
   "source": [
    "# 내용 추가\n",
    "td_list = []\n",
    "for k in range(1,13):\n",
    "    tds = driver.find_elements_by_xpath('//*[@id=\"cphContents_cphContents_cphContents_udpRecord\"]/table/tbody/tr[{}]'.format(k))\n",
    "    val = []\n",
    "    for td_text in tds:\n",
    "        td_list.append(td_text.text)\n",
    "        td_elmts = td_list[k-1].split()\n",
    "\n",
    "        sql = \"\"\"INSERT INTO KBO_team_rank VALUES(\n",
    "        {0},'{1}',{2},{3},{4},{5},{6},{7},'{8}','{9}','{10}','{11}'\n",
    "        );\"\"\".format(\n",
    "            td_elmts[0], td_elmts[1], td_elmts[2], td_elmts[3], td_elmts[4], td_elmts[5], \n",
    "            td_elmts[6], td_elmts[7], td_elmts[8], td_elmts[9], td_elmts[10], td_elmts[11]\n",
    "        )\n",
    "\n",
    "        cursor.execute(sql)\n",
    "        \n",
    "db.commit()"
   ]
  }
 ],
 "metadata": {
  "kernelspec": {
   "display_name": "Python 3 (ipykernel)",
   "language": "python",
   "name": "python3"
  },
  "language_info": {
   "codemirror_mode": {
    "name": "ipython",
    "version": 3
   },
   "file_extension": ".py",
   "mimetype": "text/x-python",
   "name": "python",
   "nbconvert_exporter": "python",
   "pygments_lexer": "ipython3",
   "version": "3.9.7"
  }
 },
 "nbformat": 4,
 "nbformat_minor": 5
}

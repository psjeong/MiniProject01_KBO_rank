{
 "cells": [
  {
   "cell_type": "code",
   "execution_count": 1,
   "id": "fa5d109c",
   "metadata": {},
   "outputs": [],
   "source": [
    "import selenium\n",
    "from selenium import webdriver\n",
    "import pymysql"
   ]
  },
  {
   "cell_type": "code",
   "execution_count": 2,
   "id": "53712779",
   "metadata": {},
   "outputs": [],
   "source": [
    "driver = webdriver.Chrome()\n",
    "driver.get(\"http://www.statiz.co.kr/stat.php\")"
   ]
  },
  {
   "cell_type": "code",
   "execution_count": 67,
   "id": "0a1d2181",
   "metadata": {
    "scrolled": true
   },
   "outputs": [],
   "source": [
    "war_list = []\n",
    "nth = 4\n",
    "for i in range(3,37):\n",
    "    try:\n",
    "        wars = driver.find_element_by_xpath('//*[@id=\"fixcol\"]/table/tbody/tr[{}]/td[{}]/font/span'.format(i,nth)).text\n",
    "        war_list.append(wars)\n",
    "    except:\n",
    "        continue"
   ]
  },
  {
   "cell_type": "code",
   "execution_count": 72,
   "id": "9efbb352",
   "metadata": {},
   "outputs": [],
   "source": [
    "# col 생성\n",
    "db = pymysql.connect(host='localhost', port=3306, user='root', passwd='3064', db='mywork', charset='utf8')\n",
    "cursor = db.cursor()\n",
    "\n",
    "sql = \"create table WAR (WAR DECIMAL(10,2));\"\n",
    "\n",
    "cursor.execute(sql)\n",
    "db.commit()"
   ]
  },
  {
   "cell_type": "code",
   "execution_count": 73,
   "id": "3cba093d",
   "metadata": {},
   "outputs": [
    {
     "name": "stdout",
     "output_type": "stream",
     "text": [
      "6.63\n",
      "5.23\n",
      "5.13\n",
      "4.27\n",
      "4.11\n",
      "4.07\n",
      "3.93\n",
      "3.80\n",
      "3.61\n",
      "3.59\n",
      "3.36\n",
      "3.23\n",
      "3.04\n",
      "2.91\n",
      "2.87\n",
      "2.86\n",
      "2.84\n",
      "2.82\n",
      "2.82\n",
      "2.81\n",
      "2.80\n",
      "2.78\n",
      "2.72\n",
      "2.56\n",
      "2.52\n",
      "2.43\n",
      "2.40\n",
      "2.40\n",
      "2.36\n",
      "2.35\n"
     ]
    }
   ],
   "source": [
    "# 내용 추가\n",
    "td_list = []\n",
    "for i in range(3,37):\n",
    "    try:\n",
    "        wars = driver.find_element_by_xpath('//*[@id=\"fixcol\"]/table/tbody/tr[{}]/td[{}]/font/span'.format(i,nth)).text\n",
    "        print(wars)\n",
    "        war_list.append(wars)\n",
    "    except:\n",
    "        continue\n",
    "        \n",
    "    sql = \"INSERT INTO WAR VALUES({});\".format(wars)\n",
    "\n",
    "    cursor.execute(sql)\n",
    "        \n",
    "db.commit()"
   ]
  }
 ],
 "metadata": {
  "kernelspec": {
   "display_name": "Python 3 (ipykernel)",
   "language": "python",
   "name": "python3"
  },
  "language_info": {
   "codemirror_mode": {
    "name": "ipython",
    "version": 3
   },
   "file_extension": ".py",
   "mimetype": "text/x-python",
   "name": "python",
   "nbconvert_exporter": "python",
   "pygments_lexer": "ipython3",
   "version": "3.9.7"
  }
 },
 "nbformat": 4,
 "nbformat_minor": 5
}

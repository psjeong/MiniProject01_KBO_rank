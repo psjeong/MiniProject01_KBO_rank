{
 "cells": [
  {
   "cell_type": "code",
   "execution_count": 44,
   "id": "da5a6325",
   "metadata": {},
   "outputs": [
    {
     "name": "stdout",
     "output_type": "stream",
     "text": [
      "     순위   팀명     평균 ERA    평균피안타     평균삼진    평균출루허용\n",
      "0   1.0  SSG   6.496429  30.7143  26.4286  1.654643\n",
      "1   2.0   LG   4.217200  33.8800  28.5200  1.437600\n",
      "2   3.0   키움   5.922500  36.3333  31.7083  1.701667\n",
      "3   4.0   KT   4.319545  40.2727  35.2273  1.496818\n",
      "4   5.0  KIA   4.664167  37.0417  30.7917  1.587917\n",
      "5   6.0   롯데  10.284643  35.8214  31.0000  2.419643\n",
      "6   7.0   두산   4.899130  39.4348  30.3478  1.529130\n",
      "7   8.0   NC   5.516250  36.1667  34.6667  1.619167\n",
      "8   9.0   삼성   4.830000  38.3846  27.2692  1.583077\n",
      "9  10.0   한화   4.832333  31.9667  22.7000  1.627000\n"
     ]
    },
    {
     "name": "stderr",
     "output_type": "stream",
     "text": [
      "C:\\Users\\DETOP\\AppData\\Local\\Temp\\ipykernel_57036\\276436639.py:28: FutureWarning: Could not cast to float64, falling back to object. This behavior is deprecated. In a future version, when a dtype is passed to 'DataFrame', either all columns will be cast to that dtype, or a TypeError will be raised.\n",
      "  df = pd.DataFrame(rows, dtype=float)\n"
     ]
    },
    {
     "data": {
      "text/html": [
       "<div>\n",
       "<style scoped>\n",
       "    .dataframe tbody tr th:only-of-type {\n",
       "        vertical-align: middle;\n",
       "    }\n",
       "\n",
       "    .dataframe tbody tr th {\n",
       "        vertical-align: top;\n",
       "    }\n",
       "\n",
       "    .dataframe thead th {\n",
       "        text-align: right;\n",
       "    }\n",
       "</style>\n",
       "<table border=\"1\" class=\"dataframe\">\n",
       "  <thead>\n",
       "    <tr style=\"text-align: right;\">\n",
       "      <th></th>\n",
       "      <th>평균 ERA</th>\n",
       "      <th>평균피안타</th>\n",
       "      <th>평균삼진</th>\n",
       "      <th>평균출루허용</th>\n",
       "    </tr>\n",
       "  </thead>\n",
       "  <tbody>\n",
       "    <tr>\n",
       "      <th>0</th>\n",
       "      <td>-0.05482</td>\n",
       "      <td>0.227375</td>\n",
       "      <td>-0.203104</td>\n",
       "      <td>0.085478</td>\n",
       "    </tr>\n",
       "  </tbody>\n",
       "</table>\n",
       "</div>"
      ],
      "text/plain": [
       "    평균 ERA     평균피안타      평균삼진    평균출루허용\n",
       "0 -0.05482  0.227375 -0.203104  0.085478"
      ]
     },
     "execution_count": 44,
     "metadata": {},
     "output_type": "execute_result"
    }
   ],
   "source": [
    "import pandas as pd\n",
    "import pymysql\n",
    "\n",
    "#mysql 접속정보\n",
    "user_name = 'proj_user'\n",
    "password = '1234'\n",
    "db_name = 'mini_project_1'\n",
    "\n",
    "conn = pymysql.connect(host='localhost', port=3306, user=user_name, passwd=password, db='mini_project_1', charset='utf8')\n",
    "cursor = conn.cursor()\n",
    "\n",
    "#mysql 읽어오기\n",
    "sql = \"\"\"\n",
    "select b.순위, a.*\n",
    "from\n",
    "\t(\n",
    "\tselect 팀명, avg(ERA), avg(H), avg(SO), avg(WHIP)\n",
    "\t\tfrom kbo_pitcher_data\n",
    "\t\tgroup by 팀명\n",
    "\t)a\n",
    "inner join kbo_team_rank as b\n",
    "\ton a.팀명 = b.팀명\n",
    "order by 1;\n",
    "\"\"\"\n",
    "\n",
    "cursor.execute(sql)\n",
    "rows = cursor.fetchall()\n",
    "df = pd.DataFrame(rows, dtype=float)\n",
    "df.columns = ['순위', '팀명', '평균 ERA', '평균피안타', '평균삼진', '평균출루허용']\n",
    "\n",
    "conn.close()\n",
    "\n",
    "print(df)\n",
    "\n",
    "corr = []\n",
    "corr.append(df['순위'].corr(df['평균 ERA']))\n",
    "corr.append(df['순위'].corr(df['평균피안타']))\n",
    "corr.append(df['순위'].corr(df['평균삼진']))\n",
    "corr.append(df['순위'].corr(df['평균출루허용']))\n",
    "\n",
    "corr_df = pd.DataFrame(corr).T\n",
    "corr_df.columns = ['평균 ERA', '평균피안타', '평균삼진', '평균출루허용']\n",
    "corr_df\n"
   ]
  },
  {
   "cell_type": "code",
   "execution_count": null,
   "id": "dd68d742",
   "metadata": {},
   "outputs": [],
   "source": []
  }
 ],
 "metadata": {
  "kernelspec": {
   "display_name": "Python 3 (ipykernel)",
   "language": "python",
   "name": "python3"
  },
  "language_info": {
   "codemirror_mode": {
    "name": "ipython",
    "version": 3
   },
   "file_extension": ".py",
   "mimetype": "text/x-python",
   "name": "python",
   "nbconvert_exporter": "python",
   "pygments_lexer": "ipython3",
   "version": "3.9.12"
  }
 },
 "nbformat": 4,
 "nbformat_minor": 5
}
